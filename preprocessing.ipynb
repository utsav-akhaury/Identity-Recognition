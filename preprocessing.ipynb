{
 "cells": [
  {
   "cell_type": "markdown",
   "metadata": {},
   "source": [
    "# Calculating the penalty"
   ]
  },
  {
   "cell_type": "code",
   "execution_count": 1,
   "metadata": {
    "colab": {
     "base_uri": "https://localhost:8080/"
    },
    "id": "H9extB5X2ZpP",
    "outputId": "5e47b0f5-8271-4bf7-8db6-4da75efc7a7f"
   },
   "outputs": [],
   "source": [
    "import numpy as np \n",
    "import librosa\n",
    "import time\n",
    "import os\n",
    "# reduce number of threads to a typical quad core computer (8 threads)\n",
    "# I am running this on a computer with a large number of threads, \n",
    "# so it would be unfair to compare our serial preprocessing to tensorflow, \n",
    "# which will very efficiently use a very high number of cores.\n",
    "os.environ['TF_NUM_INTEROP_THREADS'] = '8'\n",
    "os.environ['TF_NUM_INTRAOP_THREADS'] = '8'\n",
    "from pathlib import Path \n",
    "datadir = Path('datadir')\n",
    "datafile = datadir / 'audVisIdn.npz'"
   ]
  },
  {
   "cell_type": "markdown",
   "metadata": {
    "id": "tflAbFwA3C_I"
   },
   "source": [
    "# Benchmarking our CPU"
   ]
  },
  {
   "cell_type": "code",
   "execution_count": 2,
   "metadata": {
    "colab": {
     "base_uri": "https://localhost:8080/"
    },
    "id": "-qMdZKSY3IBY",
    "outputId": "b79c634f-c989-45b2-d591-b482f9bce0b0"
   },
   "outputs": [
    {
     "name": "stdout",
     "output_type": "stream",
     "text": [
      "WARNING:tensorflow:AutoGraph could not transform <function Model.make_predict_function.<locals>.predict_function at 0x7fc2e01f1d30> and will run it as-is.\n",
      "Please report this to the TensorFlow team. When filing the bug, set the verbosity to 10 (on Linux, `export AUTOGRAPH_VERBOSITY=10`) and attach the full output.\n",
      "Cause: module 'gast' has no attribute 'Constant'\n",
      "To silence this warning, decorate the function with @tf.autograph.experimental.do_not_convert\n",
      "WARNING: AutoGraph could not transform <function Model.make_predict_function.<locals>.predict_function at 0x7fc2e01f1d30> and will run it as-is.\n",
      "Please report this to the TensorFlow team. When filing the bug, set the verbosity to 10 (on Linux, `export AUTOGRAPH_VERBOSITY=10`) and attach the full output.\n",
      "Cause: module 'gast' has no attribute 'Constant'\n",
      "To silence this warning, decorate the function with @tf.autograph.experimental.do_not_convert\n",
      "1/1 [==============================] - 1s 535ms/step\n",
      "number of parameters per second: 328755710.1447682\n"
     ]
    }
   ],
   "source": [
    "import tensorflow as tf\n",
    "from tensorflow import keras\n",
    "from tensorflow.keras.applications.resnet50 import ResNet50\n",
    "from tensorflow.keras.preprocessing import image\n",
    "from tensorflow.keras.applications.resnet50 import preprocess_input, decode_predictions\n",
    " \n",
    "#!wget https://upload.wikimedia.org/wikipedia/commons/f/f9/Zoorashia_elephant.jpg -O elephant.jpg\n",
    "numTry = 100\n",
    "numParam = 25.6e6\n",
    "\n",
    "with tf.device('/cpu:0'): # if using gpu for preprocessing /gpu:0\n",
    "  model = ResNet50(weights='imagenet')  # num of params: 25.6 M\n",
    "  img_path = 'elephant.jpg'\n",
    "  img = image.load_img(img_path, target_size=(224, 224))\n",
    "  x = image.img_to_array(img)\n",
    "  x = np.expand_dims(x, axis=0)\n",
    "  x = preprocess_input(x)\n",
    "  preds = model.predict(x)\n",
    "\n",
    "  tic = time.perf_counter()\n",
    "  for i in range(numTry):\n",
    "    preds = model.predict(x, verbose=0)\n",
    "\n",
    "  toc = time.perf_counter()\n",
    "  totTime = toc - tic\n",
    "  perRunTime = totTime / numTry\n",
    "  paramSpeed = numParam / perRunTime \n",
    "  # time your preprocessing operation for one sample and multiply with this\n",
    "  # value to calculate parameter count equivalency \n",
    "  print(\"number of parameters per second:\", paramSpeed)"
   ]
  },
  {
   "cell_type": "code",
   "execution_count": 3,
   "metadata": {},
   "outputs": [
    {
     "name": "stderr",
     "output_type": "stream",
     "text": [
      "<ipython-input-3-7d34a0744b23>:17: FutureWarning: Pass y=[[-0.03475952 -0.0295105  -0.04678345 ... -0.02377319 -0.02432251\n",
      "  -0.02520752]\n",
      " [ 0.04412842  0.05596924  0.05584717 ...  0.00021362  0.00112915\n",
      "   0.00140381]\n",
      " [-0.02783203 -0.02276611 -0.02420044 ...  0.1546936   0.17932129\n",
      "   0.15518188]\n",
      " ...\n",
      " [-0.02749634 -0.01629639 -0.00094604 ...  0.00125122  0.00921631\n",
      "   0.00222778]\n",
      " [ 0.00509644  0.00726318  0.0083313  ... -0.00268555 -0.00268555\n",
      "  -0.00271606]\n",
      " [-0.01239014 -0.03939819 -0.0640564  ... -0.13027954 -0.1138916\n",
      "  -0.10131836]] as keyword args. From version 0.10 passing these as positional arguments will result in an error\n",
      "  dic['mel'] = np.median(librosa.feature.melspectrogram(X, sr=rate).T,axis=0).T\n"
     ]
    },
    {
     "name": "stdout",
     "output_type": "stream",
     "text": [
      "equivalent # of params: 1843863\n",
      "that is a penalty of 0.18%\n"
     ]
    }
   ],
   "source": [
    "from threading import Thread\n",
    "\n",
    "def getMFCCs(dic):\n",
    "  X = dic['X']\n",
    "  rate = dic['rate']\n",
    "  mfcctot = librosa.feature.mfcc(y=X, sr=rate, n_mfcc=60)\n",
    "  mfccs = np.median(mfcctot.T,axis=0).T\n",
    "  dic['mfccs'] = mfccs\n",
    "\n",
    "def getSTFT(dic):\n",
    "  X = dic['X']\n",
    "  dic['stft'] = np.abs(librosa.stft(X))\n",
    "\n",
    "def getMel(dic):\n",
    "  X = dic['X']\n",
    "  rate = dic['rate']\n",
    "  dic['mel'] = np.median(librosa.feature.melspectrogram(X, sr=rate).T,axis=0).T\n",
    "\n",
    "def getChroma(dic):\n",
    "  stft = dic['stft']\n",
    "  rate = dic['rate']\n",
    "  dic['chroma'] = np.median(librosa.feature.chroma_stft(S=stft, sr=rate).T,axis=0).T\n",
    "\n",
    "def getContrast(dic):\n",
    "  stft = dic['stft']\n",
    "  rate = dic['rate']\n",
    "  dic['contrast'] = np.median(librosa.feature.spectral_contrast(S=stft, sr=rate).T,axis=0).T\n",
    "\n",
    "\n",
    "def audioFeatures(X, rate=16000):\n",
    "    dic = {}\n",
    "    dic['X'] = X\n",
    "    dic['rate'] = rate\n",
    "    # Generate Mel-frequency cepstral coefficients (MFCCs) from a time series \n",
    "    p1 = Thread(target=getMFCCs, args=(dic,))\n",
    "    p1.start()\n",
    "\n",
    "    \n",
    "    #mel-scaled spectrogram:\n",
    "    p2 = Thread(target=getMel, args=(dic,))\n",
    "    p2.start()\n",
    "    \n",
    "    # the stft, base of the last two features\n",
    "    p3 = Thread(target=getSTFT, args=(dic,))\n",
    "    p3.start()\n",
    "    # wait for stft to complete before \n",
    "    # calculating the last 2.\n",
    "    p3.join()\n",
    "\n",
    "    # chroma:\n",
    "    p4 = Thread(target=getChroma, args=(dic,))\n",
    "    p4.start()\n",
    "\n",
    "    # contrast:\n",
    "    p5 = Thread(target=getContrast, args=(dic,))\n",
    "    p5.start()\n",
    "    \n",
    "    # wait for everyone\n",
    "    p1.join()\n",
    "    p2.join()\n",
    "    p4.join()\n",
    "    p5.join()\n",
    "    \n",
    "    # here are the features.\n",
    "    return np.concatenate((dic['mfccs'], \n",
    "                           dic['chroma'], \n",
    "                           dic['mel'], \n",
    "                           dic['contrast']), axis=1)\n",
    "\n",
    "class AudioData():\n",
    "    def __init__(self, path):\n",
    "        self.file = path\n",
    "        self.prepareData()\n",
    "\n",
    "    def prepareData(self):\n",
    "        ffile = np.load(self.file)\n",
    "        self.tst_audio = ffile['audioTrs_test']\n",
    "           \n",
    "\n",
    "a = AudioData(datafile)\n",
    "\n",
    "\n",
    "\n",
    "\n",
    "\n",
    "\n",
    "t0 = time.time()\n",
    "_ = audioFeatures(a.tst_audio[:numTry])\n",
    "\n",
    "tpersample =  ( time.time() - t0) / numTry\n",
    "\n",
    "\n",
    "print(f\"equivalent # of params: {paramSpeed * tpersample:.0f}\")\n",
    "print(f\"that is a penalty of {paramSpeed * tpersample/1e7:.02f}%\")"
   ]
  },
  {
   "cell_type": "markdown",
   "metadata": {
    "id": "hBljCVoA30vI"
   },
   "source": [
    "# Now image preprocessing"
   ]
  },
  {
   "cell_type": "code",
   "execution_count": 4,
   "metadata": {
    "colab": {
     "base_uri": "https://localhost:8080/"
    },
    "id": "xRO6wULC3qfQ",
    "outputId": "a088f4f8-ce2c-4787-8a8d-ab9dc520b5b2"
   },
   "outputs": [
    {
     "name": "stdout",
     "output_type": "stream",
     "text": [
      "equivalent # of params: 2001385\n",
      "that is a penalty of 0.20%\n"
     ]
    }
   ],
   "source": [
    "from skimage.transform import resize\n",
    "import dlib\n",
    "\n",
    "\n",
    "class ImageData():\n",
    "    def __init__(self, path):\n",
    "        self.file = path\n",
    "        self.prepareData()\n",
    "\n",
    "    def prepareData(self):\n",
    "        ffile = np.load(self.file)\n",
    "        self.testimg = ffile['imgFrames_test'] / 255.\n",
    "\n",
    "# Load the detector\n",
    "detector = dlib.get_frontal_face_detector()\n",
    "FINALSIZE = 160\n",
    "\n",
    "g = ImageData(datafile)\n",
    "\n",
    "def extractFace(index):\n",
    "    img = g.testimg[index,:,:,:]\n",
    "        \n",
    "    faces = detector((255*img).astype(np.uint8))\n",
    "    \n",
    "    for face in faces[:1]:\n",
    "        x1 = face.left() # left point\n",
    "        y1 = face.top() # top point\n",
    "        x2 = face.right() # right point\n",
    "        y2 = face.bottom() # bottom point\n",
    "        \n",
    "        lenx = (x2-x1)\n",
    "        leny = (y2-y1)\n",
    "        diff = lenx - leny\n",
    "        # make the crop a square:\n",
    "        if diff > 0:\n",
    "            x1 += diff // 2 \n",
    "            x2 -= diff // 2\n",
    "        if diff < 0 :\n",
    "            y1 += diff // 2\n",
    "            y2 -= diff // 2\n",
    "    if len(faces) == 0:\n",
    "        # well....then no crop.\n",
    "        imgr = img\n",
    "    else:\n",
    "        # found a face? draw a square.\n",
    "        imgr = img[y1:y2, x1:x2]\n",
    "        \n",
    "    try:\n",
    "        imgr = resize(imgr, (FINALSIZE, FINALSIZE))\n",
    "    except:\n",
    "        imgr = resize(img, (FINALSIZE, FINALSIZE))\n",
    "        \n",
    "    mean, std = np.nanmean(imgr), np.nanstd(imgr)\n",
    "    imgr =  (imgr - mean) / std\n",
    "\n",
    "    return imgr\n",
    "\n",
    "\n",
    "\n",
    "t0 = time.time()\n",
    "for i in range(numTry):\n",
    "    _ = extractFace(i)\n",
    "t = time.time() - t0\n",
    "t /= numTry\n",
    "print(f\"equivalent # of params: {paramSpeed * t:.0f}\")\n",
    "print(f\"that is a penalty of {paramSpeed * t/1e7:.02f}%\")"
   ]
  }
 ],
 "metadata": {
  "colab": {
   "name": "preprocessing.ipynb",
   "provenance": []
  },
  "kernelspec": {
   "display_name": "Python 3",
   "language": "python",
   "name": "python3"
  },
  "language_info": {
   "codemirror_mode": {
    "name": "ipython",
    "version": 3
   },
   "file_extension": ".py",
   "mimetype": "text/x-python",
   "name": "python",
   "nbconvert_exporter": "python",
   "pygments_lexer": "ipython3",
   "version": "3.8.5"
  }
 },
 "nbformat": 4,
 "nbformat_minor": 1
}
